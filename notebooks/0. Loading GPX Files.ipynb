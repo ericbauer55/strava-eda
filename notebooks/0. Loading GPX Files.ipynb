{
 "cells": [
  {
   "cell_type": "code",
   "execution_count": 1,
   "id": "1864a42c",
   "metadata": {},
   "outputs": [],
   "source": [
    "import pandas as pd\n",
    "import gpxpy as gx"
   ]
  },
  {
   "cell_type": "code",
   "execution_count": 2,
   "id": "9e4b9a4f",
   "metadata": {},
   "outputs": [],
   "source": [
    "# Define the input and output file paths and file formats for this sample read\n",
    "file_paths = {'in':'../data/raw/Ride_to_alum_creek.gpx',\n",
    "              'out':'../data/converted/Ride_to_alum_creek.csv'\n",
    "             }\n"
   ]
  },
  {
   "cell_type": "markdown",
   "id": "e3e1fafe",
   "metadata": {},
   "source": [
    "**gpxpy Reference:** [link](https://github.com/tkrajina/gpxpy)"
   ]
  },
  {
   "cell_type": "code",
   "execution_count": 3,
   "id": "33114022",
   "metadata": {},
   "outputs": [],
   "source": [
    "# Setup data capture as lists initially\n",
    "data = []"
   ]
  },
  {
   "cell_type": "code",
   "execution_count": 4,
   "id": "504d0242",
   "metadata": {},
   "outputs": [],
   "source": [
    "with open(file_paths['in'],'r') as opened_file:\n",
    "    # parse the .gpx file into a GPX object\n",
    "    gpx = gx.parse(opened_file)\n",
    "    \n",
    "    # iterate through all tracks, segments and points to extract the data\n",
    "    for i, track in enumerate(gpx.tracks):\n",
    "        for j, segment in enumerate(track.segments):\n",
    "            for point in segment.points:\n",
    "                # create the row of data & append to data\n",
    "                row = {'track':i, 'segement':j, 'time':point.time, \n",
    "                       'elevation':point.elevation, 'latitude':point.latitude, 'longitude':point.longitude}\n",
    "                data.append(row)"
   ]
  },
  {
   "cell_type": "code",
   "execution_count": 6,
   "id": "d5684543",
   "metadata": {},
   "outputs": [
    {
     "data": {
      "text/plain": [
       "[{'track': 0,\n",
       "  'segement': 0,\n",
       "  'time': datetime.datetime(2020, 7, 12, 11, 15, 1, tzinfo=SimpleTZ(\"Z\")),\n",
       "  'elevation': 228.9,\n",
       "  'latitude': 40.080766,\n",
       "  'longitude': -83.036139},\n",
       " {'track': 0,\n",
       "  'segement': 0,\n",
       "  'time': datetime.datetime(2020, 7, 12, 11, 15, 2, tzinfo=SimpleTZ(\"Z\")),\n",
       "  'elevation': 228.9,\n",
       "  'latitude': 40.080772,\n",
       "  'longitude': -83.036132}]"
      ]
     },
     "execution_count": 6,
     "metadata": {},
     "output_type": "execute_result"
    }
   ],
   "source": [
    "data[0:2]"
   ]
  },
  {
   "cell_type": "code",
   "execution_count": 10,
   "id": "e41fc416",
   "metadata": {},
   "outputs": [
    {
     "name": "stdout",
     "output_type": "stream",
     "text": [
      "There are 8771 rows and 6 columns:\n",
      "\t-['track', 'segement', 'time', 'elevation', 'latitude', 'longitude']\n"
     ]
    }
   ],
   "source": [
    "# capture the data structure as a Pandas Dataframe\n",
    "df = pd.DataFrame(data)\n",
    "print(f'There are {df.shape[0]} rows and {df.shape[1]} columns:')\n",
    "print(f'\\t-{list(df.columns)}')"
   ]
  },
  {
   "cell_type": "code",
   "execution_count": 11,
   "id": "3056fe23",
   "metadata": {},
   "outputs": [
    {
     "data": {
      "text/html": [
       "<div>\n",
       "<style scoped>\n",
       "    .dataframe tbody tr th:only-of-type {\n",
       "        vertical-align: middle;\n",
       "    }\n",
       "\n",
       "    .dataframe tbody tr th {\n",
       "        vertical-align: top;\n",
       "    }\n",
       "\n",
       "    .dataframe thead th {\n",
       "        text-align: right;\n",
       "    }\n",
       "</style>\n",
       "<table border=\"1\" class=\"dataframe\">\n",
       "  <thead>\n",
       "    <tr style=\"text-align: right;\">\n",
       "      <th></th>\n",
       "      <th>track</th>\n",
       "      <th>segement</th>\n",
       "      <th>time</th>\n",
       "      <th>elevation</th>\n",
       "      <th>latitude</th>\n",
       "      <th>longitude</th>\n",
       "    </tr>\n",
       "  </thead>\n",
       "  <tbody>\n",
       "    <tr>\n",
       "      <th>0</th>\n",
       "      <td>0</td>\n",
       "      <td>0</td>\n",
       "      <td>2020-07-12 11:15:01+00:00</td>\n",
       "      <td>228.9</td>\n",
       "      <td>40.080766</td>\n",
       "      <td>-83.036139</td>\n",
       "    </tr>\n",
       "    <tr>\n",
       "      <th>1</th>\n",
       "      <td>0</td>\n",
       "      <td>0</td>\n",
       "      <td>2020-07-12 11:15:02+00:00</td>\n",
       "      <td>228.9</td>\n",
       "      <td>40.080772</td>\n",
       "      <td>-83.036132</td>\n",
       "    </tr>\n",
       "    <tr>\n",
       "      <th>2</th>\n",
       "      <td>0</td>\n",
       "      <td>0</td>\n",
       "      <td>2020-07-12 11:15:04+00:00</td>\n",
       "      <td>228.8</td>\n",
       "      <td>40.080779</td>\n",
       "      <td>-83.036126</td>\n",
       "    </tr>\n",
       "    <tr>\n",
       "      <th>3</th>\n",
       "      <td>0</td>\n",
       "      <td>0</td>\n",
       "      <td>2020-07-12 11:15:05+00:00</td>\n",
       "      <td>228.8</td>\n",
       "      <td>40.080786</td>\n",
       "      <td>-83.036120</td>\n",
       "    </tr>\n",
       "    <tr>\n",
       "      <th>4</th>\n",
       "      <td>0</td>\n",
       "      <td>0</td>\n",
       "      <td>2020-07-12 11:15:07+00:00</td>\n",
       "      <td>228.8</td>\n",
       "      <td>40.080792</td>\n",
       "      <td>-83.036115</td>\n",
       "    </tr>\n",
       "  </tbody>\n",
       "</table>\n",
       "</div>"
      ],
      "text/plain": [
       "   track  segement                      time  elevation   latitude  longitude\n",
       "0      0         0 2020-07-12 11:15:01+00:00      228.9  40.080766 -83.036139\n",
       "1      0         0 2020-07-12 11:15:02+00:00      228.9  40.080772 -83.036132\n",
       "2      0         0 2020-07-12 11:15:04+00:00      228.8  40.080779 -83.036126\n",
       "3      0         0 2020-07-12 11:15:05+00:00      228.8  40.080786 -83.036120\n",
       "4      0         0 2020-07-12 11:15:07+00:00      228.8  40.080792 -83.036115"
      ]
     },
     "execution_count": 11,
     "metadata": {},
     "output_type": "execute_result"
    }
   ],
   "source": [
    "df.head()"
   ]
  },
  {
   "cell_type": "code",
   "execution_count": 13,
   "id": "0be9cf48",
   "metadata": {},
   "outputs": [],
   "source": [
    "# save the dataframe as a .csv file\n",
    "df.to_csv(file_paths['out'], header=True, index=False)"
   ]
  },
  {
   "cell_type": "code",
   "execution_count": null,
   "id": "47136087",
   "metadata": {},
   "outputs": [],
   "source": []
  }
 ],
 "metadata": {
  "kernelspec": {
   "display_name": "Python 3 (ipykernel)",
   "language": "python",
   "name": "python3"
  },
  "language_info": {
   "codemirror_mode": {
    "name": "ipython",
    "version": 3
   },
   "file_extension": ".py",
   "mimetype": "text/x-python",
   "name": "python",
   "nbconvert_exporter": "python",
   "pygments_lexer": "ipython3",
   "version": "3.10.1"
  }
 },
 "nbformat": 4,
 "nbformat_minor": 5
}
