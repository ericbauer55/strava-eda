{
 "cells": [
  {
   "cell_type": "markdown",
   "id": "656c56d9",
   "metadata": {},
   "source": [
    "# 0. Reading in Data"
   ]
  },
  {
   "cell_type": "code",
   "execution_count": 1,
   "id": "d7581fc9",
   "metadata": {},
   "outputs": [],
   "source": [
    "import pandas as pd\n",
    "import numpy as np\n",
    "import seaborn as sns\n",
    "import matplotlib.pyplot as plt"
   ]
  },
  {
   "cell_type": "code",
   "execution_count": 2,
   "id": "bfc25c2e",
   "metadata": {},
   "outputs": [],
   "source": [
    "file_paths = {'in':'../data/converted/Ride_to_alum_creek.csv',\n",
    "              'out':'../data/enriched/Ride_to_alum_creek.csv'\n",
    "             }\n",
    "\n",
    "df = pd.read_csv(file_paths['in'])"
   ]
  },
  {
   "cell_type": "markdown",
   "id": "25bec1e4",
   "metadata": {},
   "source": [
    "### Convert `time` to a Datetime"
   ]
  },
  {
   "cell_type": "code",
   "execution_count": 3,
   "id": "efa76f2c",
   "metadata": {},
   "outputs": [
    {
     "data": {
      "text/plain": [
       "dtype('O')"
      ]
     },
     "execution_count": 3,
     "metadata": {},
     "output_type": "execute_result"
    }
   ],
   "source": [
    "df['time'].dtype # starts as a string object"
   ]
  },
  {
   "cell_type": "code",
   "execution_count": 4,
   "id": "be17c6fe",
   "metadata": {},
   "outputs": [],
   "source": [
    "df['time'] = pd.to_datetime(df['time'])"
   ]
  },
  {
   "cell_type": "code",
   "execution_count": 5,
   "id": "b97800ab",
   "metadata": {},
   "outputs": [
    {
     "data": {
      "text/plain": [
       "datetime64[ns, UTC]"
      ]
     },
     "execution_count": 5,
     "metadata": {},
     "output_type": "execute_result"
    }
   ],
   "source": [
    "df['time'].dtype # now a datetime object"
   ]
  },
  {
   "cell_type": "markdown",
   "id": "f27d0347",
   "metadata": {},
   "source": [
    "# 1. Investigating `time`"
   ]
  },
  {
   "cell_type": "code",
   "execution_count": 6,
   "id": "95817608",
   "metadata": {},
   "outputs": [
    {
     "data": {
      "text/plain": [
       "1594552501.0"
      ]
     },
     "execution_count": 6,
     "metadata": {},
     "output_type": "execute_result"
    }
   ],
   "source": [
    "# test the conversion of a timestamp to a UTC timestamp in seconds since 1970\n",
    "df.loc[0,'time'].timestamp()"
   ]
  },
  {
   "cell_type": "code",
   "execution_count": 7,
   "id": "8196b38a",
   "metadata": {},
   "outputs": [],
   "source": [
    "# convert the timestamps to seconds for easier comparison\n",
    "df['time_utc'] = df['time'].apply(lambda x: x.timestamp())"
   ]
  },
  {
   "cell_type": "code",
   "execution_count": 8,
   "id": "62ee7f0e",
   "metadata": {},
   "outputs": [],
   "source": [
    "# create a time difference column that shows the number of seconds between successive rows\n",
    "df['time_diff'] = df['time_utc'].diff()"
   ]
  },
  {
   "cell_type": "code",
   "execution_count": 9,
   "id": "470bcab2",
   "metadata": {},
   "outputs": [
    {
     "data": {
      "text/html": [
       "<div>\n",
       "<style scoped>\n",
       "    .dataframe tbody tr th:only-of-type {\n",
       "        vertical-align: middle;\n",
       "    }\n",
       "\n",
       "    .dataframe tbody tr th {\n",
       "        vertical-align: top;\n",
       "    }\n",
       "\n",
       "    .dataframe thead th {\n",
       "        text-align: right;\n",
       "    }\n",
       "</style>\n",
       "<table border=\"1\" class=\"dataframe\">\n",
       "  <thead>\n",
       "    <tr style=\"text-align: right;\">\n",
       "      <th></th>\n",
       "      <th>time</th>\n",
       "      <th>time_utc</th>\n",
       "      <th>time_diff</th>\n",
       "    </tr>\n",
       "  </thead>\n",
       "  <tbody>\n",
       "    <tr>\n",
       "      <th>0</th>\n",
       "      <td>2020-07-12 11:15:01+00:00</td>\n",
       "      <td>1.594553e+09</td>\n",
       "      <td>NaN</td>\n",
       "    </tr>\n",
       "    <tr>\n",
       "      <th>1</th>\n",
       "      <td>2020-07-12 11:15:02+00:00</td>\n",
       "      <td>1.594553e+09</td>\n",
       "      <td>1.0</td>\n",
       "    </tr>\n",
       "    <tr>\n",
       "      <th>2</th>\n",
       "      <td>2020-07-12 11:15:04+00:00</td>\n",
       "      <td>1.594553e+09</td>\n",
       "      <td>2.0</td>\n",
       "    </tr>\n",
       "    <tr>\n",
       "      <th>3</th>\n",
       "      <td>2020-07-12 11:15:05+00:00</td>\n",
       "      <td>1.594553e+09</td>\n",
       "      <td>1.0</td>\n",
       "    </tr>\n",
       "    <tr>\n",
       "      <th>4</th>\n",
       "      <td>2020-07-12 11:15:07+00:00</td>\n",
       "      <td>1.594553e+09</td>\n",
       "      <td>2.0</td>\n",
       "    </tr>\n",
       "    <tr>\n",
       "      <th>5</th>\n",
       "      <td>2020-07-12 11:15:09+00:00</td>\n",
       "      <td>1.594553e+09</td>\n",
       "      <td>2.0</td>\n",
       "    </tr>\n",
       "    <tr>\n",
       "      <th>6</th>\n",
       "      <td>2020-07-12 11:15:10+00:00</td>\n",
       "      <td>1.594553e+09</td>\n",
       "      <td>1.0</td>\n",
       "    </tr>\n",
       "    <tr>\n",
       "      <th>7</th>\n",
       "      <td>2020-07-12 11:15:12+00:00</td>\n",
       "      <td>1.594553e+09</td>\n",
       "      <td>2.0</td>\n",
       "    </tr>\n",
       "    <tr>\n",
       "      <th>8</th>\n",
       "      <td>2020-07-12 11:15:13+00:00</td>\n",
       "      <td>1.594553e+09</td>\n",
       "      <td>1.0</td>\n",
       "    </tr>\n",
       "    <tr>\n",
       "      <th>9</th>\n",
       "      <td>2020-07-12 11:15:14+00:00</td>\n",
       "      <td>1.594553e+09</td>\n",
       "      <td>1.0</td>\n",
       "    </tr>\n",
       "  </tbody>\n",
       "</table>\n",
       "</div>"
      ],
      "text/plain": [
       "                       time      time_utc  time_diff\n",
       "0 2020-07-12 11:15:01+00:00  1.594553e+09        NaN\n",
       "1 2020-07-12 11:15:02+00:00  1.594553e+09        1.0\n",
       "2 2020-07-12 11:15:04+00:00  1.594553e+09        2.0\n",
       "3 2020-07-12 11:15:05+00:00  1.594553e+09        1.0\n",
       "4 2020-07-12 11:15:07+00:00  1.594553e+09        2.0\n",
       "5 2020-07-12 11:15:09+00:00  1.594553e+09        2.0\n",
       "6 2020-07-12 11:15:10+00:00  1.594553e+09        1.0\n",
       "7 2020-07-12 11:15:12+00:00  1.594553e+09        2.0\n",
       "8 2020-07-12 11:15:13+00:00  1.594553e+09        1.0\n",
       "9 2020-07-12 11:15:14+00:00  1.594553e+09        1.0"
      ]
     },
     "execution_count": 9,
     "metadata": {},
     "output_type": "execute_result"
    }
   ],
   "source": [
    "df[['time','time_utc','time_diff']].head(10)"
   ]
  },
  {
   "cell_type": "code",
   "execution_count": 10,
   "id": "e64a9307",
   "metadata": {},
   "outputs": [
    {
     "data": {
      "text/plain": [
       "2.0      4670\n",
       "1.0      4053\n",
       "3.0         5\n",
       "9.0         5\n",
       "5.0         4\n",
       "6.0         3\n",
       "4.0         3\n",
       "10.0        2\n",
       "36.0        2\n",
       "417.0       1\n",
       "249.0       1\n",
       "152.0       1\n",
       "90.0        1\n",
       "8.0         1\n",
       "20.0        1\n",
       "42.0        1\n",
       "18.0        1\n",
       "12.0        1\n",
       "19.0        1\n",
       "61.0        1\n",
       "588.0       1\n",
       "51.0        1\n",
       "25.0        1\n",
       "30.0        1\n",
       "72.0        1\n",
       "0.0         1\n",
       "128.0       1\n",
       "45.0        1\n",
       "764.0       1\n",
       "118.0       1\n",
       "137.0       1\n",
       "44.0        1\n",
       "Name: time_diff, dtype: int64"
      ]
     },
     "execution_count": 10,
     "metadata": {},
     "output_type": "execute_result"
    }
   ],
   "source": [
    "df['time_diff'].value_counts()"
   ]
  },
  {
   "cell_type": "code",
   "execution_count": 13,
   "id": "564f2b4d",
   "metadata": {},
   "outputs": [],
   "source": [
    "# create an elapsed time column\n",
    "df['elapsed_time'] = df['time_diff'].cumsum()"
   ]
  },
  {
   "cell_type": "code",
   "execution_count": 32,
   "id": "779d69fa",
   "metadata": {},
   "outputs": [
    {
     "data": {
      "image/png": "[encoded data removed]",
      "text/plain": [
       "<Figure size 576x432 with 1 Axes>"
      ]
     },
     "metadata": {
      "needs_background": "light"
     },
     "output_type": "display_data"
    }
   ],
   "source": [
    "# visualize the jumps of cumulative time \n",
    "fig = plt.figure(figsize=(8,6))\n",
    "\n",
    "_ = plt.plot(df['elapsed_time'], linestyle='-', marker='.', markersize=10)\n",
    "_ = plt.xlabel('Row Index', fontsize=16)\n",
    "_ = plt.ylabel('Elapsed Time (seconds)', fontsize=16)\n",
    "_ = plt.title('Time Sample Continuity', fontsize=20)\n",
    "_ = plt.grid()"
   ]
  },
  {
   "cell_type": "code",
   "execution_count": 31,
   "id": "3dc13c9a",
   "metadata": {},
   "outputs": [
    {
     "data": {
      "image/png": "[encoded data removed]",
      "text/plain": [
       "<Figure size 576x432 with 1 Axes>"
      ]
     },
     "metadata": {
      "needs_background": "light"
     },
     "output_type": "display_data"
    }
   ],
   "source": [
    "# visualize the jumps of cumulative time \n",
    "fig = plt.figure(figsize=(8,6))\n",
    "\n",
    "_ = plt.plot(df.loc[0:100, 'elapsed_time'], linestyle='-', marker='.', markersize=10)\n",
    "_ = plt.xlabel('Row Index', fontsize=16)\n",
    "_ = plt.ylabel('Elapsed Time (seconds)', fontsize=16)\n",
    "_ = plt.title('Time Sample Continuity', fontsize=20)\n",
    "_ = plt.grid()"
   ]
  },
  {
   "cell_type": "code",
   "execution_count": null,
   "id": "0aee1e34",
   "metadata": {},
   "outputs": [],
   "source": []
  },
  {
   "cell_type": "markdown",
   "id": "e04dade4",
   "metadata": {},
   "source": [
    "# 2. Saving the Enrichments"
   ]
  },
  {
   "cell_type": "code",
   "execution_count": 11,
   "id": "a98d8702",
   "metadata": {},
   "outputs": [],
   "source": [
    "df.to_csv(file_paths['out'], index=False)"
   ]
  },
  {
   "cell_type": "code",
   "execution_count": null,
   "id": "4487e7de",
   "metadata": {},
   "outputs": [],
   "source": []
  }
 ],
 "metadata": {
  "kernelspec": {
   "display_name": "Python 3 (ipykernel)",
   "language": "python",
   "name": "python3"
  },
  "language_info": {
   "codemirror_mode": {
    "name": "ipython",
    "version": 3
   },
   "file_extension": ".py",
   "mimetype": "text/x-python",
   "name": "python",
   "nbconvert_exporter": "python",
   "pygments_lexer": "ipython3",
   "version": "3.10.1"
  }
 },
 "nbformat": 4,
 "nbformat_minor": 5
}
