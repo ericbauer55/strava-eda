{
 "cells": [
  {
   "cell_type": "markdown",
   "id": "c4ba70ac",
   "metadata": {},
   "source": [
    "# 0. Reading in Data"
   ]
  },
  {
   "cell_type": "code",
   "execution_count": 1,
   "id": "7522ba01",
   "metadata": {},
   "outputs": [],
   "source": [
    "import pandas as pd\n",
    "import numpy as np\n",
    "import seaborn as sns\n",
    "import matplotlib.pyplot as plt"
   ]
  },
  {
   "cell_type": "code",
   "execution_count": 2,
   "id": "409cfe11",
   "metadata": {},
   "outputs": [],
   "source": [
    "file_paths = {'in':'../data/converted/Ride_to_alum_creek.csv'}\n",
    "\n",
    "df = pd.read_csv(file_paths['in'])"
   ]
  },
  {
   "cell_type": "markdown",
   "id": "d695ab65",
   "metadata": {},
   "source": [
    "### Convert `time` to a Datetime"
   ]
  },
  {
   "cell_type": "code",
   "execution_count": 3,
   "id": "5e6edc8d",
   "metadata": {},
   "outputs": [
    {
     "data": {
      "text/plain": [
       "dtype('O')"
      ]
     },
     "execution_count": 3,
     "metadata": {},
     "output_type": "execute_result"
    }
   ],
   "source": [
    "df['time'].dtype # starts as a string object"
   ]
  },
  {
   "cell_type": "code",
   "execution_count": 4,
   "id": "1c2abaa9",
   "metadata": {},
   "outputs": [],
   "source": [
    "df['time'] = pd.to_datetime(df['time'])"
   ]
  },
  {
   "cell_type": "code",
   "execution_count": 5,
   "id": "4c44ad4b",
   "metadata": {},
   "outputs": [
    {
     "data": {
      "text/plain": [
       "datetime64[ns, UTC]"
      ]
     },
     "execution_count": 5,
     "metadata": {},
     "output_type": "execute_result"
    }
   ],
   "source": [
    "df['time'].dtype # now a datetime object"
   ]
  },
  {
   "cell_type": "markdown",
   "id": "b7898aef",
   "metadata": {},
   "source": [
    "# 1. Investigating `time`"
   ]
  },
  {
   "cell_type": "code",
   "execution_count": 9,
   "id": "2268495c",
   "metadata": {},
   "outputs": [
    {
     "data": {
      "text/plain": [
       "1594552501.0"
      ]
     },
     "execution_count": 9,
     "metadata": {},
     "output_type": "execute_result"
    }
   ],
   "source": [
    "# test the conversion of a timestamp to a UTC timestamp in seconds since 1970\n",
    "df.loc[0,'time'].timestamp()"
   ]
  },
  {
   "cell_type": "code",
   "execution_count": 10,
   "id": "99df83cc",
   "metadata": {},
   "outputs": [],
   "source": [
    "# convert the timestamps to seconds for easier comparison\n",
    "df['time_utc'] = df['time'].apply(lambda x: x.timestamp())"
   ]
  },
  {
   "cell_type": "code",
   "execution_count": 11,
   "id": "69cc0b3a",
   "metadata": {},
   "outputs": [],
   "source": [
    "# create a time difference column that shows the number of seconds between successive rows\n",
    "df['time_diff'] = df['time_utc'].diff()"
   ]
  },
  {
   "cell_type": "code",
   "execution_count": 13,
   "id": "27306059",
   "metadata": {},
   "outputs": [
    {
     "data": {
      "text/html": [
       "<div>\n",
       "<style scoped>\n",
       "    .dataframe tbody tr th:only-of-type {\n",
       "        vertical-align: middle;\n",
       "    }\n",
       "\n",
       "    .dataframe tbody tr th {\n",
       "        vertical-align: top;\n",
       "    }\n",
       "\n",
       "    .dataframe thead th {\n",
       "        text-align: right;\n",
       "    }\n",
       "</style>\n",
       "<table border=\"1\" class=\"dataframe\">\n",
       "  <thead>\n",
       "    <tr style=\"text-align: right;\">\n",
       "      <th></th>\n",
       "      <th>time</th>\n",
       "      <th>time_utc</th>\n",
       "      <th>time_diff</th>\n",
       "    </tr>\n",
       "  </thead>\n",
       "  <tbody>\n",
       "    <tr>\n",
       "      <th>0</th>\n",
       "      <td>2020-07-12 11:15:01+00:00</td>\n",
       "      <td>1.594553e+09</td>\n",
       "      <td>NaN</td>\n",
       "    </tr>\n",
       "    <tr>\n",
       "      <th>1</th>\n",
       "      <td>2020-07-12 11:15:02+00:00</td>\n",
       "      <td>1.594553e+09</td>\n",
       "      <td>1.0</td>\n",
       "    </tr>\n",
       "    <tr>\n",
       "      <th>2</th>\n",
       "      <td>2020-07-12 11:15:04+00:00</td>\n",
       "      <td>1.594553e+09</td>\n",
       "      <td>2.0</td>\n",
       "    </tr>\n",
       "    <tr>\n",
       "      <th>3</th>\n",
       "      <td>2020-07-12 11:15:05+00:00</td>\n",
       "      <td>1.594553e+09</td>\n",
       "      <td>1.0</td>\n",
       "    </tr>\n",
       "    <tr>\n",
       "      <th>4</th>\n",
       "      <td>2020-07-12 11:15:07+00:00</td>\n",
       "      <td>1.594553e+09</td>\n",
       "      <td>2.0</td>\n",
       "    </tr>\n",
       "    <tr>\n",
       "      <th>5</th>\n",
       "      <td>2020-07-12 11:15:09+00:00</td>\n",
       "      <td>1.594553e+09</td>\n",
       "      <td>2.0</td>\n",
       "    </tr>\n",
       "    <tr>\n",
       "      <th>6</th>\n",
       "      <td>2020-07-12 11:15:10+00:00</td>\n",
       "      <td>1.594553e+09</td>\n",
       "      <td>1.0</td>\n",
       "    </tr>\n",
       "    <tr>\n",
       "      <th>7</th>\n",
       "      <td>2020-07-12 11:15:12+00:00</td>\n",
       "      <td>1.594553e+09</td>\n",
       "      <td>2.0</td>\n",
       "    </tr>\n",
       "    <tr>\n",
       "      <th>8</th>\n",
       "      <td>2020-07-12 11:15:13+00:00</td>\n",
       "      <td>1.594553e+09</td>\n",
       "      <td>1.0</td>\n",
       "    </tr>\n",
       "    <tr>\n",
       "      <th>9</th>\n",
       "      <td>2020-07-12 11:15:14+00:00</td>\n",
       "      <td>1.594553e+09</td>\n",
       "      <td>1.0</td>\n",
       "    </tr>\n",
       "  </tbody>\n",
       "</table>\n",
       "</div>"
      ],
      "text/plain": [
       "                       time      time_utc  time_diff\n",
       "0 2020-07-12 11:15:01+00:00  1.594553e+09        NaN\n",
       "1 2020-07-12 11:15:02+00:00  1.594553e+09        1.0\n",
       "2 2020-07-12 11:15:04+00:00  1.594553e+09        2.0\n",
       "3 2020-07-12 11:15:05+00:00  1.594553e+09        1.0\n",
       "4 2020-07-12 11:15:07+00:00  1.594553e+09        2.0\n",
       "5 2020-07-12 11:15:09+00:00  1.594553e+09        2.0\n",
       "6 2020-07-12 11:15:10+00:00  1.594553e+09        1.0\n",
       "7 2020-07-12 11:15:12+00:00  1.594553e+09        2.0\n",
       "8 2020-07-12 11:15:13+00:00  1.594553e+09        1.0\n",
       "9 2020-07-12 11:15:14+00:00  1.594553e+09        1.0"
      ]
     },
     "execution_count": 13,
     "metadata": {},
     "output_type": "execute_result"
    }
   ],
   "source": [
    "df[['time','time_utc','time_diff']].head(10)"
   ]
  },
  {
   "cell_type": "code",
   "execution_count": 14,
   "id": "209fa531",
   "metadata": {},
   "outputs": [
    {
     "data": {
      "text/plain": [
       "2.0      4670\n",
       "1.0      4053\n",
       "3.0         5\n",
       "9.0         5\n",
       "5.0         4\n",
       "6.0         3\n",
       "4.0         3\n",
       "10.0        2\n",
       "36.0        2\n",
       "417.0       1\n",
       "249.0       1\n",
       "152.0       1\n",
       "90.0        1\n",
       "8.0         1\n",
       "20.0        1\n",
       "42.0        1\n",
       "18.0        1\n",
       "12.0        1\n",
       "19.0        1\n",
       "61.0        1\n",
       "588.0       1\n",
       "51.0        1\n",
       "25.0        1\n",
       "30.0        1\n",
       "72.0        1\n",
       "0.0         1\n",
       "128.0       1\n",
       "45.0        1\n",
       "764.0       1\n",
       "118.0       1\n",
       "137.0       1\n",
       "44.0        1\n",
       "Name: time_diff, dtype: int64"
      ]
     },
     "execution_count": 14,
     "metadata": {},
     "output_type": "execute_result"
    }
   ],
   "source": [
    "df['time_diff'].value_counts()"
   ]
  },
  {
   "cell_type": "code",
   "execution_count": null,
   "id": "bb2bd053",
   "metadata": {},
   "outputs": [],
   "source": []
  },
  {
   "cell_type": "code",
   "execution_count": null,
   "id": "8e2addc1",
   "metadata": {},
   "outputs": [],
   "source": []
  }
 ],
 "metadata": {
  "kernelspec": {
   "display_name": "Python 3 (ipykernel)",
   "language": "python",
   "name": "python3"
  },
  "language_info": {
   "codemirror_mode": {
    "name": "ipython",
    "version": 3
   },
   "file_extension": ".py",
   "mimetype": "text/x-python",
   "name": "python",
   "nbconvert_exporter": "python",
   "pygments_lexer": "ipython3",
   "version": "3.10.1"
  }
 },
 "nbformat": 4,
 "nbformat_minor": 5
}
