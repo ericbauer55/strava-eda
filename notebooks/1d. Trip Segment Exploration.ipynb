{
 "cells": [
  {
   "cell_type": "code",
   "execution_count": 1,
   "id": "9b7a136e",
   "metadata": {},
   "outputs": [],
   "source": [
    "import pandas as pd\n",
    "import numpy as np\n",
    "import seaborn as sns\n",
    "import matplotlib.pyplot as plt"
   ]
  },
  {
   "cell_type": "code",
   "execution_count": 2,
   "id": "c65dd5a7",
   "metadata": {},
   "outputs": [],
   "source": [
    "file_paths = {'in':'../data/enriched/Ride_to_alum_creek.csv',\n",
    "              'out':'../data/enriched/Ride_to_alum_creek.csv'\n",
    "             }\n",
    "\n",
    "df = pd.read_csv(file_paths['in'])"
   ]
  },
  {
   "cell_type": "code",
   "execution_count": 3,
   "id": "7b2d80db",
   "metadata": {},
   "outputs": [],
   "source": [
    "# convert the time column to a datetime type\n",
    "df['time'] = pd.to_datetime(df['time'])"
   ]
  },
  {
   "cell_type": "code",
   "execution_count": 4,
   "id": "821d2407",
   "metadata": {},
   "outputs": [
    {
     "data": {
      "text/plain": [
       "Index(['track', 'segment', 'time', 'time_utc', 'time_diff', 'elapsed_time',\n",
       "       'elevation', 'latitude', 'longitude', 'distance', 'elapsed_distance',\n",
       "       'speed', 'grade'],\n",
       "      dtype='object')"
      ]
     },
     "execution_count": 4,
     "metadata": {},
     "output_type": "execute_result"
    }
   ],
   "source": [
    "df.columns"
   ]
  },
  {
   "cell_type": "code",
   "execution_count": 5,
   "id": "19958aa9",
   "metadata": {},
   "outputs": [
    {
     "data": {
      "text/html": [
       "<div>\n",
       "<style scoped>\n",
       "    .dataframe tbody tr th:only-of-type {\n",
       "        vertical-align: middle;\n",
       "    }\n",
       "\n",
       "    .dataframe tbody tr th {\n",
       "        vertical-align: top;\n",
       "    }\n",
       "\n",
       "    .dataframe thead th {\n",
       "        text-align: right;\n",
       "    }\n",
       "</style>\n",
       "<table border=\"1\" class=\"dataframe\">\n",
       "  <thead>\n",
       "    <tr style=\"text-align: right;\">\n",
       "      <th></th>\n",
       "      <th>track</th>\n",
       "      <th>segment</th>\n",
       "      <th>time</th>\n",
       "      <th>time_utc</th>\n",
       "      <th>time_diff</th>\n",
       "      <th>elapsed_time</th>\n",
       "      <th>elevation</th>\n",
       "      <th>latitude</th>\n",
       "      <th>longitude</th>\n",
       "      <th>distance</th>\n",
       "      <th>elapsed_distance</th>\n",
       "      <th>speed</th>\n",
       "      <th>grade</th>\n",
       "    </tr>\n",
       "  </thead>\n",
       "  <tbody>\n",
       "    <tr>\n",
       "      <th>0</th>\n",
       "      <td>0</td>\n",
       "      <td>0</td>\n",
       "      <td>2020-07-12 11:15:01+00:00</td>\n",
       "      <td>1.594553e+09</td>\n",
       "      <td>NaN</td>\n",
       "      <td>NaN</td>\n",
       "      <td>751.0209</td>\n",
       "      <td>40.080766</td>\n",
       "      <td>-83.036139</td>\n",
       "      <td>NaN</td>\n",
       "      <td>NaN</td>\n",
       "      <td>NaN</td>\n",
       "      <td>NaN</td>\n",
       "    </tr>\n",
       "    <tr>\n",
       "      <th>1</th>\n",
       "      <td>0</td>\n",
       "      <td>0</td>\n",
       "      <td>2020-07-12 11:15:02+00:00</td>\n",
       "      <td>1.594553e+09</td>\n",
       "      <td>1.0</td>\n",
       "      <td>1.0</td>\n",
       "      <td>751.0209</td>\n",
       "      <td>40.080772</td>\n",
       "      <td>-83.036132</td>\n",
       "      <td>0.000556</td>\n",
       "      <td>0.000556</td>\n",
       "      <td>2.000532</td>\n",
       "      <td>0.000000</td>\n",
       "    </tr>\n",
       "    <tr>\n",
       "      <th>2</th>\n",
       "      <td>0</td>\n",
       "      <td>0</td>\n",
       "      <td>2020-07-12 11:15:04+00:00</td>\n",
       "      <td>1.594553e+09</td>\n",
       "      <td>2.0</td>\n",
       "      <td>3.0</td>\n",
       "      <td>750.6928</td>\n",
       "      <td>40.080779</td>\n",
       "      <td>-83.036126</td>\n",
       "      <td>0.000578</td>\n",
       "      <td>0.001134</td>\n",
       "      <td>1.041101</td>\n",
       "      <td>-10.743653</td>\n",
       "    </tr>\n",
       "    <tr>\n",
       "      <th>3</th>\n",
       "      <td>0</td>\n",
       "      <td>0</td>\n",
       "      <td>2020-07-12 11:15:05+00:00</td>\n",
       "      <td>1.594553e+09</td>\n",
       "      <td>1.0</td>\n",
       "      <td>4.0</td>\n",
       "      <td>750.6928</td>\n",
       "      <td>40.080786</td>\n",
       "      <td>-83.036120</td>\n",
       "      <td>0.000578</td>\n",
       "      <td>0.001712</td>\n",
       "      <td>2.082202</td>\n",
       "      <td>0.000000</td>\n",
       "    </tr>\n",
       "    <tr>\n",
       "      <th>4</th>\n",
       "      <td>0</td>\n",
       "      <td>0</td>\n",
       "      <td>2020-07-12 11:15:07+00:00</td>\n",
       "      <td>1.594553e+09</td>\n",
       "      <td>2.0</td>\n",
       "      <td>6.0</td>\n",
       "      <td>750.6928</td>\n",
       "      <td>40.080792</td>\n",
       "      <td>-83.036115</td>\n",
       "      <td>0.000492</td>\n",
       "      <td>0.002204</td>\n",
       "      <td>0.884990</td>\n",
       "      <td>0.000000</td>\n",
       "    </tr>\n",
       "  </tbody>\n",
       "</table>\n",
       "</div>"
      ],
      "text/plain": [
       "   track  segment                      time      time_utc  time_diff  \\\n",
       "0      0        0 2020-07-12 11:15:01+00:00  1.594553e+09        NaN   \n",
       "1      0        0 2020-07-12 11:15:02+00:00  1.594553e+09        1.0   \n",
       "2      0        0 2020-07-12 11:15:04+00:00  1.594553e+09        2.0   \n",
       "3      0        0 2020-07-12 11:15:05+00:00  1.594553e+09        1.0   \n",
       "4      0        0 2020-07-12 11:15:07+00:00  1.594553e+09        2.0   \n",
       "\n",
       "   elapsed_time  elevation   latitude  longitude  distance  elapsed_distance  \\\n",
       "0           NaN   751.0209  40.080766 -83.036139       NaN               NaN   \n",
       "1           1.0   751.0209  40.080772 -83.036132  0.000556          0.000556   \n",
       "2           3.0   750.6928  40.080779 -83.036126  0.000578          0.001134   \n",
       "3           4.0   750.6928  40.080786 -83.036120  0.000578          0.001712   \n",
       "4           6.0   750.6928  40.080792 -83.036115  0.000492          0.002204   \n",
       "\n",
       "      speed      grade  \n",
       "0       NaN        NaN  \n",
       "1  2.000532   0.000000  \n",
       "2  1.041101 -10.743653  \n",
       "3  2.082202   0.000000  \n",
       "4  0.884990   0.000000  "
      ]
     },
     "execution_count": 5,
     "metadata": {},
     "output_type": "execute_result"
    }
   ],
   "source": [
    "df.head()"
   ]
  },
  {
   "cell_type": "markdown",
   "id": "963e9068",
   "metadata": {},
   "source": [
    "# 1. Segment ID"
   ]
  },
  {
   "cell_type": "code",
   "execution_count": 7,
   "id": "c32444ca",
   "metadata": {},
   "outputs": [],
   "source": [
    "# find all indices where time gaps are greater than 2 seconds\n",
    "filt_segment_starts = df.loc[:,'time_diff'] > 2 \n",
    "segment_starts = df.loc[filt_segment_starts, :]"
   ]
  },
  {
   "cell_type": "code",
   "execution_count": 10,
   "id": "5dd55f7e",
   "metadata": {},
   "outputs": [
    {
     "name": "stdout",
     "output_type": "stream",
     "text": [
      "47\n"
     ]
    }
   ],
   "source": [
    "# we only want the indices of the dataframe where new segments start \n",
    "# we must include index=0 as the start of the 0th segment\n",
    "segment_start_indices = [0] + list(segment_starts.index)\n",
    "print(len(segment_start_indices))"
   ]
  },
  {
   "cell_type": "code",
   "execution_count": 12,
   "id": "db05daa9",
   "metadata": {},
   "outputs": [],
   "source": [
    "for i in range(0, len(segment_start_indices)):\n",
    "    # create an index filter starting on the i^th segment's start index\n",
    "    # end the filter one row before the start of segment i+1\n",
    "    start_index = segment_start_indices[i]\n",
    "    if (i == len(segment_start_indices)-1): \n",
    "        # if the last segment is being assigned, i+1 will give an index error\n",
    "        # instead, set the end index to be the last index of the dataframe\n",
    "        end_index = df.shape[0]-1\n",
    "    else:\n",
    "        end_index = segment_start_indices[i+1] - 1\n",
    "    \n",
    "    # for all rows between the index endpoints, assign that segment ID = i\n",
    "    df.loc[start_index:end_index,'segment'] = i    "
   ]
  },
  {
   "cell_type": "code",
   "execution_count": null,
   "id": "210cae94",
   "metadata": {},
   "outputs": [],
   "source": [
    "# because a segment in Strava means a physical stretch of a path, ta"
   ]
  },
  {
   "cell_type": "markdown",
   "id": "3efe040c",
   "metadata": {},
   "source": [
    "# 2. Plotting Ride Segments"
   ]
  },
  {
   "cell_type": "code",
   "execution_count": null,
   "id": "f318a9ba",
   "metadata": {},
   "outputs": [],
   "source": []
  },
  {
   "cell_type": "code",
   "execution_count": null,
   "id": "90fbf859",
   "metadata": {},
   "outputs": [],
   "source": []
  },
  {
   "cell_type": "code",
   "execution_count": null,
   "id": "ac5f46c7",
   "metadata": {},
   "outputs": [],
   "source": []
  }
 ],
 "metadata": {
  "kernelspec": {
   "display_name": "Python 3 (ipykernel)",
   "language": "python",
   "name": "python3"
  },
  "language_info": {
   "codemirror_mode": {
    "name": "ipython",
    "version": 3
   },
   "file_extension": ".py",
   "mimetype": "text/x-python",
   "name": "python",
   "nbconvert_exporter": "python",
   "pygments_lexer": "ipython3",
   "version": "3.10.1"
  }
 },
 "nbformat": 4,
 "nbformat_minor": 5
}
