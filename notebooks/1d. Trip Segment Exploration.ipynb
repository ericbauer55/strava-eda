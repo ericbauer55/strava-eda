{
 "cells": [
  {
   "cell_type": "code",
   "execution_count": 1,
   "id": "4bb1d1a5",
   "metadata": {},
   "outputs": [],
   "source": [
    "import pandas as pd\n",
    "import numpy as np\n",
    "import seaborn as sns\n",
    "import matplotlib.pyplot as plt"
   ]
  },
  {
   "cell_type": "code",
   "execution_count": 2,
   "id": "a02f8bf2",
   "metadata": {},
   "outputs": [],
   "source": [
    "file_paths = {'in':'../data/enriched/Ride_to_alum_creek.csv',\n",
    "              'out':'../data/enriched/Ride_to_alum_creek.csv'\n",
    "             }\n",
    "\n",
    "df = pd.read_csv(file_paths['in'])"
   ]
  },
  {
   "cell_type": "code",
   "execution_count": 3,
   "id": "64581804",
   "metadata": {},
   "outputs": [],
   "source": [
    "# convert the time column to a datetime type\n",
    "df['time'] = pd.to_datetime(df['time'])"
   ]
  },
  {
   "cell_type": "code",
   "execution_count": 4,
   "id": "fe63f263",
   "metadata": {},
   "outputs": [
    {
     "data": {
      "text/plain": [
       "Index(['track', 'segment', 'time', 'time_utc', 'time_diff', 'elapsed_time',\n",
       "       'elevation', 'latitude', 'longitude'],\n",
       "      dtype='object')"
      ]
     },
     "execution_count": 4,
     "metadata": {},
     "output_type": "execute_result"
    }
   ],
   "source": [
    "df.columns"
   ]
  },
  {
   "cell_type": "code",
   "execution_count": null,
   "id": "836b85a2",
   "metadata": {},
   "outputs": [],
   "source": []
  }
 ],
 "metadata": {
  "kernelspec": {
   "display_name": "Python 3 (ipykernel)",
   "language": "python",
   "name": "python3"
  },
  "language_info": {
   "codemirror_mode": {
    "name": "ipython",
    "version": 3
   },
   "file_extension": ".py",
   "mimetype": "text/x-python",
   "name": "python",
   "nbconvert_exporter": "python",
   "pygments_lexer": "ipython3",
   "version": "3.10.1"
  }
 },
 "nbformat": 4,
 "nbformat_minor": 5
}
