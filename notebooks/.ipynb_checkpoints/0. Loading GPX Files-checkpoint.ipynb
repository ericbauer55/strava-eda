{
 "cells": [
  {
   "cell_type": "code",
   "execution_count": 1,
   "id": "fa5485f1",
   "metadata": {},
   "outputs": [],
   "source": [
    "import pandas as pd\n",
    "import gpxpy as gx"
   ]
  },
  {
   "cell_type": "code",
   "execution_count": 2,
   "id": "9645a0a1",
   "metadata": {},
   "outputs": [],
   "source": [
    "# Define the input and output file paths and file formats for this sample read\n",
    "file_paths = {'in':'../data/raw/Ride_to_alum_creek.gpx',\n",
    "              'out':'../data/converted/Ride_to_alum_creek.csv'\n",
    "             }\n"
   ]
  },
  {
   "cell_type": "markdown",
   "id": "9576bba2",
   "metadata": {},
   "source": [
    "**gpxpy Reference:** [link](https://github.com/tkrajina/gpxpy)"
   ]
  },
  {
   "cell_type": "code",
   "execution_count": null,
   "id": "5a49ed4c",
   "metadata": {},
   "outputs": [],
   "source": [
    "# Setup data capture as lists initially\n",
    "data = []"
   ]
  },
  {
   "cell_type": "code",
   "execution_count": null,
   "id": "e5fcf745",
   "metadata": {},
   "outputs": [],
   "source": [
    "with open(file_paths['in'],'r') as opened_file:\n",
    "    # parse the .gpx file into a GPX object\n",
    "    gpx = gx.parse(opened_file)\n",
    "    \n",
    "    # iterate through all tracks, segments and points to extract the data\n",
    "    for i, track in enumerate(gpx.tracks):\n",
    "        for j, segment in enumerate(track.segments):\n",
    "            for point in segment.points:\n",
    "                # create the row of data & append to data\n",
    "                row = {'track':i, 'segement':j, 'time':point.time, \n",
    "                       'elevation':point.elevation, 'latitude':point.latitude, 'longitude':point.longitude}\n",
    "                data.append(row)"
   ]
  }
 ],
 "metadata": {
  "kernelspec": {
   "display_name": "Python 3 (ipykernel)",
   "language": "python",
   "name": "python3"
  },
  "language_info": {
   "codemirror_mode": {
    "name": "ipython",
    "version": 3
   },
   "file_extension": ".py",
   "mimetype": "text/x-python",
   "name": "python",
   "nbconvert_exporter": "python",
   "pygments_lexer": "ipython3",
   "version": "3.10.1"
  }
 },
 "nbformat": 4,
 "nbformat_minor": 5
}
