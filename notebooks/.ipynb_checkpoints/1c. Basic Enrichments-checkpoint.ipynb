{
 "cells": [
  {
   "cell_type": "code",
   "execution_count": 1,
   "id": "2465d7bf",
   "metadata": {},
   "outputs": [],
   "source": [
    "import pandas as pd\n",
    "import numpy as np\n",
    "import seaborn as sns\n",
    "import matplotlib.pyplot as plt"
   ]
  },
  {
   "cell_type": "code",
   "execution_count": 2,
   "id": "7affb6ca",
   "metadata": {},
   "outputs": [],
   "source": [
    "file_paths = {'in':'../data/enriched/Ride_to_alum_creek.csv',\n",
    "              'out':'../data/enriched/Ride_to_alum_creek.csv'\n",
    "             }\n",
    "\n",
    "df = pd.read_csv(file_paths['in'])"
   ]
  },
  {
   "cell_type": "code",
   "execution_count": 3,
   "id": "06d4799f",
   "metadata": {},
   "outputs": [
    {
     "data": {
      "text/plain": [
       "track             int64\n",
       "segment           int64\n",
       "time             object\n",
       "time_utc        float64\n",
       "time_diff       float64\n",
       "elapsed_time    float64\n",
       "elevation       float64\n",
       "latitude        float64\n",
       "longitude       float64\n",
       "dtype: object"
      ]
     },
     "execution_count": 3,
     "metadata": {},
     "output_type": "execute_result"
    }
   ],
   "source": [
    "df.dtypes"
   ]
  },
  {
   "cell_type": "code",
   "execution_count": 4,
   "id": "d7bc953c",
   "metadata": {},
   "outputs": [],
   "source": [
    "# convert the time column to a datetime type\n",
    "df['time'] = pd.to_datetime(df['time'])"
   ]
  },
  {
   "cell_type": "markdown",
   "id": "e8e94bc5",
   "metadata": {},
   "source": [
    "# 1. Calculating Distance Travelled"
   ]
  },
  {
   "cell_type": "code",
   "execution_count": 5,
   "id": "09ab20a6",
   "metadata": {},
   "outputs": [
    {
     "ename": "ModuleNotFoundError",
     "evalue": "No module named 'haversine'",
     "output_type": "error",
     "traceback": [
      "\u001b[1;31m---------------------------------------------------------------------------\u001b[0m",
      "\u001b[1;31mModuleNotFoundError\u001b[0m                       Traceback (most recent call last)",
      "\u001b[1;32m~\\AppData\\Local\\Temp/ipykernel_16844/3074684318.py\u001b[0m in \u001b[0;36m<module>\u001b[1;34m\u001b[0m\n\u001b[1;32m----> 1\u001b[1;33m \u001b[1;32mfrom\u001b[0m \u001b[0mhaversine\u001b[0m \u001b[1;32mimport\u001b[0m \u001b[0mhaversine\u001b[0m\u001b[1;33m,\u001b[0m \u001b[0mUnit\u001b[0m\u001b[1;33m\u001b[0m\u001b[1;33m\u001b[0m\u001b[0m\n\u001b[0m",
      "\u001b[1;31mModuleNotFoundError\u001b[0m: No module named 'haversine'"
     ]
    }
   ],
   "source": [
    "from haversine import haversine, Unit"
   ]
  },
  {
   "cell_type": "code",
   "execution_count": null,
   "id": "c1686623",
   "metadata": {},
   "outputs": [],
   "source": []
  }
 ],
 "metadata": {
  "kernelspec": {
   "display_name": "Python 3 (ipykernel)",
   "language": "python",
   "name": "python3"
  },
  "language_info": {
   "codemirror_mode": {
    "name": "ipython",
    "version": 3
   },
   "file_extension": ".py",
   "mimetype": "text/x-python",
   "name": "python",
   "nbconvert_exporter": "python",
   "pygments_lexer": "ipython3",
   "version": "3.10.1"
  }
 },
 "nbformat": 4,
 "nbformat_minor": 5
}
