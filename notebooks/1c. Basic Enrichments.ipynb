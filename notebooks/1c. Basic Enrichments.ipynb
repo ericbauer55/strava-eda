{
 "cells": [
  {
   "cell_type": "code",
   "execution_count": 1,
   "id": "2465d7bf",
   "metadata": {},
   "outputs": [],
   "source": [
    "import pandas as pd\n",
    "import numpy as np\n",
    "import seaborn as sns\n",
    "import matplotlib.pyplot as plt"
   ]
  },
  {
   "cell_type": "code",
   "execution_count": 2,
   "id": "7affb6ca",
   "metadata": {},
   "outputs": [],
   "source": [
    "file_paths = {'in':'../data/enriched/Ride_to_alum_creek.csv',\n",
    "              'out':'../data/enriched/Ride_to_alum_creek.csv'\n",
    "             }\n",
    "\n",
    "df = pd.read_csv(file_paths['in'])"
   ]
  },
  {
   "cell_type": "code",
   "execution_count": 3,
   "id": "06d4799f",
   "metadata": {},
   "outputs": [
    {
     "data": {
      "text/plain": [
       "track             int64\n",
       "segment           int64\n",
       "time             object\n",
       "time_utc        float64\n",
       "time_diff       float64\n",
       "elapsed_time    float64\n",
       "elevation       float64\n",
       "latitude        float64\n",
       "longitude       float64\n",
       "dtype: object"
      ]
     },
     "execution_count": 3,
     "metadata": {},
     "output_type": "execute_result"
    }
   ],
   "source": [
    "df.dtypes"
   ]
  },
  {
   "cell_type": "code",
   "execution_count": 4,
   "id": "d7bc953c",
   "metadata": {},
   "outputs": [],
   "source": [
    "# convert the time column to a datetime type\n",
    "df['time'] = pd.to_datetime(df['time'])"
   ]
  },
  {
   "cell_type": "markdown",
   "id": "e8e94bc5",
   "metadata": {},
   "source": [
    "# 1. Calculating Distance Travelled"
   ]
  },
  {
   "cell_type": "code",
   "execution_count": 5,
   "id": "09ab20a6",
   "metadata": {},
   "outputs": [],
   "source": [
    "from haversine import haversine"
   ]
  },
  {
   "cell_type": "code",
   "execution_count": 6,
   "id": "86a47018",
   "metadata": {},
   "outputs": [],
   "source": [
    "def compute_distance(df, latitude='latitude', longitude='longitude'):\n",
    "    df = df.copy()\n",
    "    # Copy the previous values of Lat/Long to the current row for vectorized computation\n",
    "    df['lat_old'] = df[latitude].shift()\n",
    "    df['long_old'] = df[longitude].shift()\n",
    "    \n",
    "    # Grab the relevant columns for distance calculation\n",
    "    df = df[['lat_old', 'long_old', latitude, longitude]]\n",
    "    \n",
    "    # Define an anonymous function to execute over each row to calculate the distance between rows\n",
    "    haversine_distance = lambda x: haversine((x[0], x[1]), (x[2], x[3]), unit='mi')\n",
    "    \n",
    "    # Create the distance column, making sure to apply the function row-by-row\n",
    "    df['distance'] = df.apply(haversine_distance, axis=1)\n",
    "    return df['distance']\n",
    "    "
   ]
  },
  {
   "cell_type": "code",
   "execution_count": 8,
   "id": "c8d405c9",
   "metadata": {},
   "outputs": [],
   "source": [
    "df['distance'] = compute_distance(df)"
   ]
  },
  {
   "cell_type": "code",
   "execution_count": 10,
   "id": "09c8eeed",
   "metadata": {},
   "outputs": [],
   "source": [
    "# compute the cumulative distance elapsed\n",
    "df['elapsed_distance'] = df['distance'].cumsum()"
   ]
  },
  {
   "cell_type": "code",
   "execution_count": 13,
   "id": "556b51ab",
   "metadata": {},
   "outputs": [
    {
     "data": {
      "image/png": "[encoded data removed]",
      "text/plain": [
       "<Figure size 576x432 with 1 Axes>"
      ]
     },
     "metadata": {
      "needs_background": "light"
     },
     "output_type": "display_data"
    }
   ],
   "source": [
    "# visualize the jumps of cumulative time \n",
    "fig = plt.figure(figsize=(8,6))\n",
    "\n",
    "_ = plt.plot(df['elapsed_time'], df['elapsed_distance'])\n",
    "_ = plt.xlabel('Elapsed Time (seconds)', fontsize=16)\n",
    "_ = plt.ylabel('Elapsed Distance (miles)', fontsize=16)\n",
    "_ = plt.title('Bike Ride Elapsed States', fontsize=20)\n",
    "_ = plt.grid()"
   ]
  },
  {
   "cell_type": "code",
   "execution_count": 15,
   "id": "b4cb0fd7",
   "metadata": {},
   "outputs": [
    {
     "data": {
      "text/html": [
       "<div>\n",
       "<style scoped>\n",
       "    .dataframe tbody tr th:only-of-type {\n",
       "        vertical-align: middle;\n",
       "    }\n",
       "\n",
       "    .dataframe tbody tr th {\n",
       "        vertical-align: top;\n",
       "    }\n",
       "\n",
       "    .dataframe thead th {\n",
       "        text-align: right;\n",
       "    }\n",
       "</style>\n",
       "<table border=\"1\" class=\"dataframe\">\n",
       "  <thead>\n",
       "    <tr style=\"text-align: right;\">\n",
       "      <th></th>\n",
       "      <th>track</th>\n",
       "      <th>segment</th>\n",
       "      <th>time</th>\n",
       "      <th>time_utc</th>\n",
       "      <th>time_diff</th>\n",
       "      <th>elapsed_time</th>\n",
       "      <th>elevation</th>\n",
       "      <th>latitude</th>\n",
       "      <th>longitude</th>\n",
       "      <th>distance</th>\n",
       "      <th>elapsed_distance</th>\n",
       "    </tr>\n",
       "  </thead>\n",
       "  <tbody>\n",
       "    <tr>\n",
       "      <th>0</th>\n",
       "      <td>0</td>\n",
       "      <td>0</td>\n",
       "      <td>2020-07-12 11:15:01+00:00</td>\n",
       "      <td>1.594553e+09</td>\n",
       "      <td>NaN</td>\n",
       "      <td>NaN</td>\n",
       "      <td>228.9</td>\n",
       "      <td>40.080766</td>\n",
       "      <td>-83.036139</td>\n",
       "      <td>NaN</td>\n",
       "      <td>NaN</td>\n",
       "    </tr>\n",
       "    <tr>\n",
       "      <th>1</th>\n",
       "      <td>0</td>\n",
       "      <td>0</td>\n",
       "      <td>2020-07-12 11:15:02+00:00</td>\n",
       "      <td>1.594553e+09</td>\n",
       "      <td>1.0</td>\n",
       "      <td>1.0</td>\n",
       "      <td>228.9</td>\n",
       "      <td>40.080772</td>\n",
       "      <td>-83.036132</td>\n",
       "      <td>0.000556</td>\n",
       "      <td>0.000556</td>\n",
       "    </tr>\n",
       "    <tr>\n",
       "      <th>2</th>\n",
       "      <td>0</td>\n",
       "      <td>0</td>\n",
       "      <td>2020-07-12 11:15:04+00:00</td>\n",
       "      <td>1.594553e+09</td>\n",
       "      <td>2.0</td>\n",
       "      <td>3.0</td>\n",
       "      <td>228.8</td>\n",
       "      <td>40.080779</td>\n",
       "      <td>-83.036126</td>\n",
       "      <td>0.000578</td>\n",
       "      <td>0.001134</td>\n",
       "    </tr>\n",
       "    <tr>\n",
       "      <th>3</th>\n",
       "      <td>0</td>\n",
       "      <td>0</td>\n",
       "      <td>2020-07-12 11:15:05+00:00</td>\n",
       "      <td>1.594553e+09</td>\n",
       "      <td>1.0</td>\n",
       "      <td>4.0</td>\n",
       "      <td>228.8</td>\n",
       "      <td>40.080786</td>\n",
       "      <td>-83.036120</td>\n",
       "      <td>0.000578</td>\n",
       "      <td>0.001712</td>\n",
       "    </tr>\n",
       "    <tr>\n",
       "      <th>4</th>\n",
       "      <td>0</td>\n",
       "      <td>0</td>\n",
       "      <td>2020-07-12 11:15:07+00:00</td>\n",
       "      <td>1.594553e+09</td>\n",
       "      <td>2.0</td>\n",
       "      <td>6.0</td>\n",
       "      <td>228.8</td>\n",
       "      <td>40.080792</td>\n",
       "      <td>-83.036115</td>\n",
       "      <td>0.000492</td>\n",
       "      <td>0.002204</td>\n",
       "    </tr>\n",
       "  </tbody>\n",
       "</table>\n",
       "</div>"
      ],
      "text/plain": [
       "   track  segment                      time      time_utc  time_diff  \\\n",
       "0      0        0 2020-07-12 11:15:01+00:00  1.594553e+09        NaN   \n",
       "1      0        0 2020-07-12 11:15:02+00:00  1.594553e+09        1.0   \n",
       "2      0        0 2020-07-12 11:15:04+00:00  1.594553e+09        2.0   \n",
       "3      0        0 2020-07-12 11:15:05+00:00  1.594553e+09        1.0   \n",
       "4      0        0 2020-07-12 11:15:07+00:00  1.594553e+09        2.0   \n",
       "\n",
       "   elapsed_time  elevation   latitude  longitude  distance  elapsed_distance  \n",
       "0           NaN      228.9  40.080766 -83.036139       NaN               NaN  \n",
       "1           1.0      228.9  40.080772 -83.036132  0.000556          0.000556  \n",
       "2           3.0      228.8  40.080779 -83.036126  0.000578          0.001134  \n",
       "3           4.0      228.8  40.080786 -83.036120  0.000578          0.001712  \n",
       "4           6.0      228.8  40.080792 -83.036115  0.000492          0.002204  "
      ]
     },
     "execution_count": 15,
     "metadata": {},
     "output_type": "execute_result"
    }
   ],
   "source": [
    "df.head()"
   ]
  },
  {
   "cell_type": "code",
   "execution_count": 16,
   "id": "a7211b43",
   "metadata": {},
   "outputs": [
    {
     "data": {
      "text/html": [
       "<div>\n",
       "<style scoped>\n",
       "    .dataframe tbody tr th:only-of-type {\n",
       "        vertical-align: middle;\n",
       "    }\n",
       "\n",
       "    .dataframe tbody tr th {\n",
       "        vertical-align: top;\n",
       "    }\n",
       "\n",
       "    .dataframe thead th {\n",
       "        text-align: right;\n",
       "    }\n",
       "</style>\n",
       "<table border=\"1\" class=\"dataframe\">\n",
       "  <thead>\n",
       "    <tr style=\"text-align: right;\">\n",
       "      <th></th>\n",
       "      <th>track</th>\n",
       "      <th>segment</th>\n",
       "      <th>time</th>\n",
       "      <th>time_utc</th>\n",
       "      <th>time_diff</th>\n",
       "      <th>elapsed_time</th>\n",
       "      <th>elevation</th>\n",
       "      <th>latitude</th>\n",
       "      <th>longitude</th>\n",
       "      <th>distance</th>\n",
       "      <th>elapsed_distance</th>\n",
       "    </tr>\n",
       "  </thead>\n",
       "  <tbody>\n",
       "    <tr>\n",
       "      <th>8766</th>\n",
       "      <td>0</td>\n",
       "      <td>0</td>\n",
       "      <td>2020-07-12 15:53:01+00:00</td>\n",
       "      <td>1.594569e+09</td>\n",
       "      <td>1.0</td>\n",
       "      <td>16680.0</td>\n",
       "      <td>228.9</td>\n",
       "      <td>40.080755</td>\n",
       "      <td>-83.036108</td>\n",
       "      <td>0.000069</td>\n",
       "      <td>52.552850</td>\n",
       "    </tr>\n",
       "    <tr>\n",
       "      <th>8767</th>\n",
       "      <td>0</td>\n",
       "      <td>0</td>\n",
       "      <td>2020-07-12 15:53:02+00:00</td>\n",
       "      <td>1.594569e+09</td>\n",
       "      <td>1.0</td>\n",
       "      <td>16681.0</td>\n",
       "      <td>228.9</td>\n",
       "      <td>40.080756</td>\n",
       "      <td>-83.036105</td>\n",
       "      <td>0.000173</td>\n",
       "      <td>52.553023</td>\n",
       "    </tr>\n",
       "    <tr>\n",
       "      <th>8768</th>\n",
       "      <td>0</td>\n",
       "      <td>0</td>\n",
       "      <td>2020-07-12 15:53:04+00:00</td>\n",
       "      <td>1.594569e+09</td>\n",
       "      <td>2.0</td>\n",
       "      <td>16683.0</td>\n",
       "      <td>228.9</td>\n",
       "      <td>40.080753</td>\n",
       "      <td>-83.036104</td>\n",
       "      <td>0.000214</td>\n",
       "      <td>52.553237</td>\n",
       "    </tr>\n",
       "    <tr>\n",
       "      <th>8769</th>\n",
       "      <td>0</td>\n",
       "      <td>0</td>\n",
       "      <td>2020-07-12 15:53:05+00:00</td>\n",
       "      <td>1.594569e+09</td>\n",
       "      <td>1.0</td>\n",
       "      <td>16684.0</td>\n",
       "      <td>228.9</td>\n",
       "      <td>40.080751</td>\n",
       "      <td>-83.036104</td>\n",
       "      <td>0.000138</td>\n",
       "      <td>52.553375</td>\n",
       "    </tr>\n",
       "    <tr>\n",
       "      <th>8770</th>\n",
       "      <td>0</td>\n",
       "      <td>0</td>\n",
       "      <td>2020-07-12 15:53:06+00:00</td>\n",
       "      <td>1.594569e+09</td>\n",
       "      <td>1.0</td>\n",
       "      <td>16685.0</td>\n",
       "      <td>228.9</td>\n",
       "      <td>40.080750</td>\n",
       "      <td>-83.036104</td>\n",
       "      <td>0.000069</td>\n",
       "      <td>52.553444</td>\n",
       "    </tr>\n",
       "  </tbody>\n",
       "</table>\n",
       "</div>"
      ],
      "text/plain": [
       "      track  segment                      time      time_utc  time_diff  \\\n",
       "8766      0        0 2020-07-12 15:53:01+00:00  1.594569e+09        1.0   \n",
       "8767      0        0 2020-07-12 15:53:02+00:00  1.594569e+09        1.0   \n",
       "8768      0        0 2020-07-12 15:53:04+00:00  1.594569e+09        2.0   \n",
       "8769      0        0 2020-07-12 15:53:05+00:00  1.594569e+09        1.0   \n",
       "8770      0        0 2020-07-12 15:53:06+00:00  1.594569e+09        1.0   \n",
       "\n",
       "      elapsed_time  elevation   latitude  longitude  distance  \\\n",
       "8766       16680.0      228.9  40.080755 -83.036108  0.000069   \n",
       "8767       16681.0      228.9  40.080756 -83.036105  0.000173   \n",
       "8768       16683.0      228.9  40.080753 -83.036104  0.000214   \n",
       "8769       16684.0      228.9  40.080751 -83.036104  0.000138   \n",
       "8770       16685.0      228.9  40.080750 -83.036104  0.000069   \n",
       "\n",
       "      elapsed_distance  \n",
       "8766         52.552850  \n",
       "8767         52.553023  \n",
       "8768         52.553237  \n",
       "8769         52.553375  \n",
       "8770         52.553444  "
      ]
     },
     "execution_count": 16,
     "metadata": {},
     "output_type": "execute_result"
    }
   ],
   "source": [
    "df.tail()"
   ]
  },
  {
   "cell_type": "markdown",
   "id": "4d385d1d",
   "metadata": {},
   "source": [
    "# 2. Speed Calculation"
   ]
  },
  {
   "cell_type": "code",
   "execution_count": 19,
   "id": "0d9dd283",
   "metadata": {},
   "outputs": [],
   "source": [
    "miles_per_second_to_miles_per_hour = 3600.0 / 1.0\n",
    "df['speed'] = miles_per_second_to_miles_per_hour * df['distance'] / df['time_diff']"
   ]
  },
  {
   "cell_type": "code",
   "execution_count": 21,
   "id": "02b5173f",
   "metadata": {},
   "outputs": [
    {
     "data": {
      "image/png": "[encoded data removed]",
      "text/plain": [
       "<Figure size 576x432 with 1 Axes>"
      ]
     },
     "metadata": {
      "needs_background": "light"
     },
     "output_type": "display_data"
    }
   ],
   "source": [
    "# visualize the jumps of cumulative time \n",
    "fig = plt.figure(figsize=(8,6))\n",
    "\n",
    "_ = plt.plot(df['elapsed_time'], df['speed'])\n",
    "_ = plt.xlabel('Elapsed Time (seconds)', fontsize=16)\n",
    "_ = plt.ylabel('Speed (MPH)', fontsize=16)\n",
    "_ = plt.title('Bike Ride Speed vs. Time', fontsize=20)\n",
    "_ = plt.grid()"
   ]
  },
  {
   "cell_type": "markdown",
   "id": "406d06c5",
   "metadata": {},
   "source": [
    "# 3. Elevation and Grade"
   ]
  },
  {
   "cell_type": "code",
   "execution_count": null,
   "id": "7fb1dcf9",
   "metadata": {},
   "outputs": [],
   "source": []
  },
  {
   "cell_type": "code",
   "execution_count": null,
   "id": "7868cdda",
   "metadata": {},
   "outputs": [],
   "source": []
  },
  {
   "cell_type": "code",
   "execution_count": null,
   "id": "cd28ea3a",
   "metadata": {},
   "outputs": [],
   "source": []
  }
 ],
 "metadata": {
  "kernelspec": {
   "display_name": "Python 3 (ipykernel)",
   "language": "python",
   "name": "python3"
  },
  "language_info": {
   "codemirror_mode": {
    "name": "ipython",
    "version": 3
   },
   "file_extension": ".py",
   "mimetype": "text/x-python",
   "name": "python",
   "nbconvert_exporter": "python",
   "pygments_lexer": "ipython3",
   "version": "3.10.1"
  }
 },
 "nbformat": 4,
 "nbformat_minor": 5
}
