{
 "cells": [
  {
   "cell_type": "code",
   "execution_count": 1,
   "id": "2465d7bf",
   "metadata": {},
   "outputs": [],
   "source": [
    "import pandas as pd\n",
    "import numpy as np\n",
    "import seaborn as sns\n",
    "import matplotlib.pyplot as plt"
   ]
  },
  {
   "cell_type": "code",
   "execution_count": 2,
   "id": "7affb6ca",
   "metadata": {},
   "outputs": [],
   "source": [
    "file_paths = {'in':'../data/enriched/Ride_to_alum_creek.csv',\n",
    "              'out':'../data/enriched/Ride_to_alum_creek.csv'\n",
    "             }\n",
    "\n",
    "df = pd.read_csv(file_paths['in'])"
   ]
  },
  {
   "cell_type": "code",
   "execution_count": 3,
   "id": "06d4799f",
   "metadata": {},
   "outputs": [
    {
     "data": {
      "text/plain": [
       "track             int64\n",
       "segment           int64\n",
       "time             object\n",
       "time_utc        float64\n",
       "time_diff       float64\n",
       "elapsed_time    float64\n",
       "elevation       float64\n",
       "latitude        float64\n",
       "longitude       float64\n",
       "dtype: object"
      ]
     },
     "execution_count": 3,
     "metadata": {},
     "output_type": "execute_result"
    }
   ],
   "source": [
    "df.dtypes"
   ]
  },
  {
   "cell_type": "code",
   "execution_count": 4,
   "id": "d7bc953c",
   "metadata": {},
   "outputs": [],
   "source": [
    "# convert the time column to a datetime type\n",
    "df['time'] = pd.to_datetime(df['time'])"
   ]
  },
  {
   "cell_type": "markdown",
   "id": "e8e94bc5",
   "metadata": {},
   "source": [
    "# 1. Calculating Distance Travelled"
   ]
  },
  {
   "cell_type": "code",
   "execution_count": 12,
   "id": "09ab20a6",
   "metadata": {},
   "outputs": [],
   "source": [
    "from haversine import haversine"
   ]
  },
  {
   "cell_type": "code",
   "execution_count": 32,
   "id": "120211e6",
   "metadata": {},
   "outputs": [],
   "source": [
    "def compute_distance(df, latitude='latitude', longitude='longitude'):\n",
    "    df = df.copy()\n",
    "    # Copy the previous values of Lat/Long to the current row for vectorized computation\n",
    "    df['lat_old'] = df[latitude].shift()\n",
    "    df['long_old'] = df[longitude].shift()\n",
    "    \n",
    "    # Grab the relevant columns for distance calculation\n",
    "    df = df[['lat_old', 'long_old', latitude, longitude]]\n",
    "    \n",
    "    # Define an anonymous function to execute over each row to calculate the distance between rows\n",
    "    haversine_distance = lambda x: haversine((x[0], x[1]), (x[2], x[3]), unit='mi')\n",
    "    \n",
    "    # Create the distance column, making sure to apply the function row-by-row\n",
    "    df['distance'] = df.apply(haversine_distance, axis=1)\n",
    "    return df['distance']\n",
    "    "
   ]
  },
  {
   "cell_type": "code",
   "execution_count": 17,
   "id": "6cc0c997",
   "metadata": {},
   "outputs": [],
   "source": [
    "df = df.copy()\n",
    "# Copy the previous values of Lat/Long to the current row for vectorized computation\n",
    "df['lat_old'] = df['latitude'].shift()\n",
    "df['long_old'] = df['longitude'].shift()"
   ]
  },
  {
   "cell_type": "code",
   "execution_count": 18,
   "id": "edb1669a",
   "metadata": {},
   "outputs": [],
   "source": [
    "df_test = df[['lat_old', 'long_old', 'latitude', 'longitude']]"
   ]
  },
  {
   "cell_type": "code",
   "execution_count": 19,
   "id": "85a30429",
   "metadata": {},
   "outputs": [],
   "source": [
    "haversine_distance = lambda x: haversine((x[0], x[1]), (x[2], x[3]), unit='mi')"
   ]
  },
  {
   "cell_type": "code",
   "execution_count": 31,
   "id": "680e30bb",
   "metadata": {},
   "outputs": [
    {
     "data": {
      "text/plain": [
       "0            NaN\n",
       "1       0.000556\n",
       "2       0.000578\n",
       "3       0.000578\n",
       "4       0.000492\n",
       "          ...   \n",
       "8766    0.000069\n",
       "8767    0.000173\n",
       "8768    0.000214\n",
       "8769    0.000138\n",
       "8770    0.000069\n",
       "Length: 8771, dtype: float64"
      ]
     },
     "execution_count": 31,
     "metadata": {},
     "output_type": "execute_result"
    }
   ],
   "source": [
    "df_test.apply(haversine_distance, axis=1)"
   ]
  },
  {
   "cell_type": "code",
   "execution_count": 33,
   "id": "822d8988",
   "metadata": {},
   "outputs": [
    {
     "data": {
      "text/plain": [
       "0            NaN\n",
       "1       0.000556\n",
       "2       0.000578\n",
       "3       0.000578\n",
       "4       0.000492\n",
       "          ...   \n",
       "8766    0.000069\n",
       "8767    0.000173\n",
       "8768    0.000214\n",
       "8769    0.000138\n",
       "8770    0.000069\n",
       "Name: distance, Length: 8771, dtype: float64"
      ]
     },
     "execution_count": 33,
     "metadata": {},
     "output_type": "execute_result"
    }
   ],
   "source": [
    "compute_distance(df)"
   ]
  },
  {
   "cell_type": "code",
   "execution_count": null,
   "id": "da472a7f",
   "metadata": {},
   "outputs": [],
   "source": []
  },
  {
   "cell_type": "code",
   "execution_count": 7,
   "id": "3f89f950",
   "metadata": {},
   "outputs": [
    {
     "data": {
      "text/plain": [
       "0      -83.036139\n",
       "1      -83.036132\n",
       "2      -83.036126\n",
       "3      -83.036120\n",
       "4      -83.036115\n",
       "          ...    \n",
       "8766   -83.036108\n",
       "8767   -83.036105\n",
       "8768   -83.036104\n",
       "8769   -83.036104\n",
       "8770   -83.036104\n",
       "Name: longitude, Length: 8771, dtype: float64"
      ]
     },
     "execution_count": 7,
     "metadata": {},
     "output_type": "execute_result"
    }
   ],
   "source": [
    "df['longitude']"
   ]
  },
  {
   "cell_type": "code",
   "execution_count": 8,
   "id": "a46a0d0c",
   "metadata": {},
   "outputs": [
    {
     "data": {
      "text/plain": [
       "0             NaN\n",
       "1      -83.036139\n",
       "2      -83.036132\n",
       "3      -83.036126\n",
       "4      -83.036120\n",
       "          ...    \n",
       "8766   -83.036108\n",
       "8767   -83.036108\n",
       "8768   -83.036105\n",
       "8769   -83.036104\n",
       "8770   -83.036104\n",
       "Name: longitude, Length: 8771, dtype: float64"
      ]
     },
     "execution_count": 8,
     "metadata": {},
     "output_type": "execute_result"
    }
   ],
   "source": [
    "df['longitude'].shift()"
   ]
  },
  {
   "cell_type": "code",
   "execution_count": null,
   "id": "4a5f68bf",
   "metadata": {},
   "outputs": [],
   "source": []
  }
 ],
 "metadata": {
  "kernelspec": {
   "display_name": "Python 3 (ipykernel)",
   "language": "python",
   "name": "python3"
  },
  "language_info": {
   "codemirror_mode": {
    "name": "ipython",
    "version": 3
   },
   "file_extension": ".py",
   "mimetype": "text/x-python",
   "name": "python",
   "nbconvert_exporter": "python",
   "pygments_lexer": "ipython3",
   "version": "3.10.1"
  }
 },
 "nbformat": 4,
 "nbformat_minor": 5
}
